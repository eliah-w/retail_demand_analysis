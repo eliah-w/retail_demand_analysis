{
 "cells": [
  {
   "metadata": {},
   "cell_type": "markdown",
   "source": "# Data Preperation",
   "id": "e982699834a8a422"
  },
  {
   "metadata": {},
   "cell_type": "code",
   "source": [
    "import pandas as pd\n",
    "import requests\n",
    "import io\n",
    "import gdown\n",
    "import pickle"
   ],
   "id": "5cb468c17d34d74b",
   "outputs": [],
   "execution_count": null
  },
  {
   "metadata": {},
   "cell_type": "markdown",
   "source": "## Data Loading",
   "id": "cc0bea51857b62fe"
  },
  {
   "metadata": {
    "ExecuteTime": {
     "end_time": "2025-09-04T16:57:57.498187Z",
     "start_time": "2025-09-04T16:57:47.669116Z"
    }
   },
   "cell_type": "code",
   "source": [
    "def make_drive_url(file_id):\n",
    "    return f\"https://drive.google.com/uc?id={file_id}\"\n",
    "\n",
    "# Helper function to load a CSV from a direct URL\n",
    "def load_csv_from_url(url):\n",
    "    response = requests.get(url)\n",
    "    response.raise_for_status()  # Raises an error if the request fails\n",
    "    return pd.read_csv(io.StringIO(response.text))\n",
    "\n",
    "# Dictionary of file IDs for clarity\n",
    "file_ids = {\n",
    "    \"holiday_events\": \"1RMjSuqHXHTwAw_PGD5XVjhA3agaAGHDH\",\n",
    "    \"items\": \"1ogMRixVhNY6XOJtIRtkRllyOyzw1nqya\",\n",
    "    \"oil\": \"1Q59vk2v4WQ-Rpc9t2nqHcsZM3QWGFje_\",\n",
    "    \"stores\": \"1Ei0MUXmNhmOcmrlPad8oklnFEDM95cDi\",\n",
    "    \"train\": \"1oEX8NEJPY7wPmSJ0n7lO1JUFYyZjFBRv\",\n",
    "    \"transactions\": \"1PW5LnAEAiL43fI5CRDn_h6pgDG5rtBW_\"\n",
    "}\n",
    "\n",
    "# Load each CSV using the helper functions\n",
    "df_holiday_events = load_csv_from_url(make_drive_url(file_ids[\"holiday_events\"]))\n",
    "df_items          = load_csv_from_url(make_drive_url(file_ids[\"items\"]))\n",
    "df_oil            = load_csv_from_url(make_drive_url(file_ids[\"oil\"]))\n",
    "df_stores         = load_csv_from_url(make_drive_url(file_ids[\"stores\"]))\n",
    "df_transactions   = load_csv_from_url(make_drive_url(file_ids[\"transactions\"]))"
   ],
   "id": "406c478ca57927c5",
   "outputs": [],
   "execution_count": 2
  },
  {
   "metadata": {},
   "cell_type": "code",
   "source": [
    "# train.csv is too big (5 GB) so we download it separately\n",
    "\n",
    "train_url = make_drive_url(file_ids[\"train\"])\n",
    "gdown.download(train_url, \"../resources/train.csv\", quiet=False)"
   ],
   "id": "acdb185f289ef2f0",
   "outputs": [],
   "execution_count": null
  },
  {
   "metadata": {},
   "cell_type": "markdown",
   "source": "### Filter Stores from \"Guayas\" Region",
   "id": "ead3fd996c037672"
  },
  {
   "metadata": {
    "ExecuteTime": {
     "end_time": "2025-09-04T16:58:03.777123Z",
     "start_time": "2025-09-04T16:58:03.771938Z"
    }
   },
   "cell_type": "code",
   "source": [
    "store_ids = df_stores[df_stores['state'] == 'Guayas']['store_nbr'].unique()\n",
    "store_ids"
   ],
   "id": "f2b4d6d60cfb1af2",
   "outputs": [
    {
     "data": {
      "text/plain": [
       "array([24, 26, 27, 28, 29, 30, 32, 34, 35, 36, 51])"
      ]
     },
     "execution_count": 3,
     "metadata": {},
     "output_type": "execute_result"
    }
   ],
   "execution_count": 3
  },
  {
   "metadata": {},
   "cell_type": "markdown",
   "source": "Filter stores in chunks",
   "id": "f882b2f539ddaa5"
  },
  {
   "metadata": {
    "ExecuteTime": {
     "end_time": "2025-09-04T17:03:16.307834Z",
     "start_time": "2025-09-04T17:02:44.317714Z"
    }
   },
   "cell_type": "code",
   "source": [
    "chunk_size = 10**6  # 1 million rows at a time\n",
    "filtered_chunks = []\n",
    "\n",
    "# Add dtype specifications to avoid warnings\n",
    "dtype_specs = {\n",
    "    'id': 'int64',\n",
    "    'date': 'object',\n",
    "    'store_nbr': 'int64',\n",
    "    'item_nbr': 'int64',\n",
    "    'unit_sales': 'float64',\n",
    "}\n",
    "\n",
    "for chunk in pd.read_csv('../resources/train.csv', chunksize=chunk_size, dtype=dtype_specs, low_memory=False):\n",
    "    filtered_chunk = chunk[chunk['store_nbr'].isin(store_ids)]\n",
    "    filtered_chunks.append(filtered_chunk)\n",
    "\n",
    "    # free up memory\n",
    "    del chunk"
   ],
   "id": "4b44c77e05f8e5c8",
   "outputs": [],
   "execution_count": 28
  },
  {
   "metadata": {
    "ExecuteTime": {
     "end_time": "2025-09-04T17:03:20.351258Z",
     "start_time": "2025-09-04T17:03:19.489211Z"
    }
   },
   "cell_type": "code",
   "source": "df_train = pd.concat(filtered_chunks, ignore_index=True)",
   "id": "7ab4db85a7792aea",
   "outputs": [],
   "execution_count": 29
  },
  {
   "metadata": {
    "ExecuteTime": {
     "end_time": "2025-09-04T17:03:22.078497Z",
     "start_time": "2025-09-04T17:03:22.071363Z"
    }
   },
   "cell_type": "code",
   "source": "df_train",
   "id": "2c0b000adbec04be",
   "outputs": [
    {
     "data": {
      "text/plain": [
       "                 id        date  store_nbr  item_nbr  unit_sales onpromotion\n",
       "0             18789  2013-01-02         24    103665         6.0         NaN\n",
       "1             18790  2013-01-02         24    105574        12.0         NaN\n",
       "2             18791  2013-01-02         24    105575         2.0         NaN\n",
       "3             18792  2013-01-02         24    105577         1.0         NaN\n",
       "4             18793  2013-01-02         24    105693         7.0         NaN\n",
       "...             ...         ...        ...       ...         ...         ...\n",
       "22941651  125491520  2017-08-15         51   2123727         2.0       False\n",
       "22941652  125491521  2017-08-15         51   2123750         3.0       False\n",
       "22941653  125491522  2017-08-15         51   2123775         1.0       False\n",
       "22941654  125491523  2017-08-15         51   2123791         1.0       False\n",
       "22941655  125491524  2017-08-15         51   2124052         4.0        True\n",
       "\n",
       "[22941656 rows x 6 columns]"
      ],
      "text/html": [
       "<div>\n",
       "<style scoped>\n",
       "    .dataframe tbody tr th:only-of-type {\n",
       "        vertical-align: middle;\n",
       "    }\n",
       "\n",
       "    .dataframe tbody tr th {\n",
       "        vertical-align: top;\n",
       "    }\n",
       "\n",
       "    .dataframe thead th {\n",
       "        text-align: right;\n",
       "    }\n",
       "</style>\n",
       "<table border=\"1\" class=\"dataframe\">\n",
       "  <thead>\n",
       "    <tr style=\"text-align: right;\">\n",
       "      <th></th>\n",
       "      <th>id</th>\n",
       "      <th>date</th>\n",
       "      <th>store_nbr</th>\n",
       "      <th>item_nbr</th>\n",
       "      <th>unit_sales</th>\n",
       "      <th>onpromotion</th>\n",
       "    </tr>\n",
       "  </thead>\n",
       "  <tbody>\n",
       "    <tr>\n",
       "      <th>0</th>\n",
       "      <td>18789</td>\n",
       "      <td>2013-01-02</td>\n",
       "      <td>24</td>\n",
       "      <td>103665</td>\n",
       "      <td>6.0</td>\n",
       "      <td>NaN</td>\n",
       "    </tr>\n",
       "    <tr>\n",
       "      <th>1</th>\n",
       "      <td>18790</td>\n",
       "      <td>2013-01-02</td>\n",
       "      <td>24</td>\n",
       "      <td>105574</td>\n",
       "      <td>12.0</td>\n",
       "      <td>NaN</td>\n",
       "    </tr>\n",
       "    <tr>\n",
       "      <th>2</th>\n",
       "      <td>18791</td>\n",
       "      <td>2013-01-02</td>\n",
       "      <td>24</td>\n",
       "      <td>105575</td>\n",
       "      <td>2.0</td>\n",
       "      <td>NaN</td>\n",
       "    </tr>\n",
       "    <tr>\n",
       "      <th>3</th>\n",
       "      <td>18792</td>\n",
       "      <td>2013-01-02</td>\n",
       "      <td>24</td>\n",
       "      <td>105577</td>\n",
       "      <td>1.0</td>\n",
       "      <td>NaN</td>\n",
       "    </tr>\n",
       "    <tr>\n",
       "      <th>4</th>\n",
       "      <td>18793</td>\n",
       "      <td>2013-01-02</td>\n",
       "      <td>24</td>\n",
       "      <td>105693</td>\n",
       "      <td>7.0</td>\n",
       "      <td>NaN</td>\n",
       "    </tr>\n",
       "    <tr>\n",
       "      <th>...</th>\n",
       "      <td>...</td>\n",
       "      <td>...</td>\n",
       "      <td>...</td>\n",
       "      <td>...</td>\n",
       "      <td>...</td>\n",
       "      <td>...</td>\n",
       "    </tr>\n",
       "    <tr>\n",
       "      <th>22941651</th>\n",
       "      <td>125491520</td>\n",
       "      <td>2017-08-15</td>\n",
       "      <td>51</td>\n",
       "      <td>2123727</td>\n",
       "      <td>2.0</td>\n",
       "      <td>False</td>\n",
       "    </tr>\n",
       "    <tr>\n",
       "      <th>22941652</th>\n",
       "      <td>125491521</td>\n",
       "      <td>2017-08-15</td>\n",
       "      <td>51</td>\n",
       "      <td>2123750</td>\n",
       "      <td>3.0</td>\n",
       "      <td>False</td>\n",
       "    </tr>\n",
       "    <tr>\n",
       "      <th>22941653</th>\n",
       "      <td>125491522</td>\n",
       "      <td>2017-08-15</td>\n",
       "      <td>51</td>\n",
       "      <td>2123775</td>\n",
       "      <td>1.0</td>\n",
       "      <td>False</td>\n",
       "    </tr>\n",
       "    <tr>\n",
       "      <th>22941654</th>\n",
       "      <td>125491523</td>\n",
       "      <td>2017-08-15</td>\n",
       "      <td>51</td>\n",
       "      <td>2123791</td>\n",
       "      <td>1.0</td>\n",
       "      <td>False</td>\n",
       "    </tr>\n",
       "    <tr>\n",
       "      <th>22941655</th>\n",
       "      <td>125491524</td>\n",
       "      <td>2017-08-15</td>\n",
       "      <td>51</td>\n",
       "      <td>2124052</td>\n",
       "      <td>4.0</td>\n",
       "      <td>True</td>\n",
       "    </tr>\n",
       "  </tbody>\n",
       "</table>\n",
       "<p>22941656 rows × 6 columns</p>\n",
       "</div>"
      ]
     },
     "execution_count": 30,
     "metadata": {},
     "output_type": "execute_result"
    }
   ],
   "execution_count": 30
  },
  {
   "metadata": {
    "ExecuteTime": {
     "end_time": "2025-09-04T17:03:24.211656Z",
     "start_time": "2025-09-04T17:03:24.208850Z"
    }
   },
   "cell_type": "code",
   "source": "df_train.shape",
   "id": "412e501cbc8fd2dc",
   "outputs": [
    {
     "data": {
      "text/plain": [
       "(22941656, 6)"
      ]
     },
     "execution_count": 31,
     "metadata": {},
     "output_type": "execute_result"
    }
   ],
   "execution_count": 31
  },
  {
   "metadata": {
    "ExecuteTime": {
     "end_time": "2025-09-04T17:03:25.955290Z",
     "start_time": "2025-09-04T17:03:25.769682Z"
    }
   },
   "cell_type": "code",
   "source": [
    "# free memory\n",
    "del filtered_chunks"
   ],
   "id": "3dd182bf843c59e0",
   "outputs": [],
   "execution_count": 32
  },
  {
   "metadata": {},
   "cell_type": "markdown",
   "source": "### Keeping only the three biggest product families",
   "id": "bb46ced5f4136ef3"
  },
  {
   "metadata": {
    "ExecuteTime": {
     "end_time": "2025-09-04T17:03:27.330039Z",
     "start_time": "2025-09-04T17:03:27.322656Z"
    }
   },
   "cell_type": "code",
   "source": [
    "df_top3_product_families = df_items['family'].value_counts().head(3).reset_index()\n",
    "df_top3_product_families"
   ],
   "id": "a975e8b510d15a7f",
   "outputs": [
    {
     "data": {
      "text/plain": [
       "      family  count\n",
       "0  GROCERY I   1334\n",
       "1  BEVERAGES    613\n",
       "2   CLEANING    446"
      ],
      "text/html": [
       "<div>\n",
       "<style scoped>\n",
       "    .dataframe tbody tr th:only-of-type {\n",
       "        vertical-align: middle;\n",
       "    }\n",
       "\n",
       "    .dataframe tbody tr th {\n",
       "        vertical-align: top;\n",
       "    }\n",
       "\n",
       "    .dataframe thead th {\n",
       "        text-align: right;\n",
       "    }\n",
       "</style>\n",
       "<table border=\"1\" class=\"dataframe\">\n",
       "  <thead>\n",
       "    <tr style=\"text-align: right;\">\n",
       "      <th></th>\n",
       "      <th>family</th>\n",
       "      <th>count</th>\n",
       "    </tr>\n",
       "  </thead>\n",
       "  <tbody>\n",
       "    <tr>\n",
       "      <th>0</th>\n",
       "      <td>GROCERY I</td>\n",
       "      <td>1334</td>\n",
       "    </tr>\n",
       "    <tr>\n",
       "      <th>1</th>\n",
       "      <td>BEVERAGES</td>\n",
       "      <td>613</td>\n",
       "    </tr>\n",
       "    <tr>\n",
       "      <th>2</th>\n",
       "      <td>CLEANING</td>\n",
       "      <td>446</td>\n",
       "    </tr>\n",
       "  </tbody>\n",
       "</table>\n",
       "</div>"
      ]
     },
     "execution_count": 33,
     "metadata": {},
     "output_type": "execute_result"
    }
   ],
   "execution_count": 33
  },
  {
   "metadata": {
    "ExecuteTime": {
     "end_time": "2025-09-04T17:03:28.523733Z",
     "start_time": "2025-09-04T17:03:28.519132Z"
    }
   },
   "cell_type": "code",
   "source": [
    "item_ids_top3 = df_items[df_items['family'].isin(df_top3_product_families['family'])]['item_nbr'].unique()\n",
    "item_ids_top3"
   ],
   "id": "9214845de321a3fa",
   "outputs": [
    {
     "data": {
      "text/plain": [
       "array([  96995,   99197,  103501, ..., 2132945, 2132957, 2134058])"
      ]
     },
     "execution_count": 34,
     "metadata": {},
     "output_type": "execute_result"
    }
   ],
   "execution_count": 34
  },
  {
   "metadata": {
    "ExecuteTime": {
     "end_time": "2025-09-04T17:03:31.197978Z",
     "start_time": "2025-09-04T17:03:30.069893Z"
    }
   },
   "cell_type": "code",
   "source": [
    "df_train = df_train[df_train['item_nbr'].isin(item_ids_top3)]\n",
    "df_train"
   ],
   "id": "3060399ec5648b2e",
   "outputs": [
    {
     "data": {
      "text/plain": [
       "                 id        date  store_nbr  item_nbr  unit_sales onpromotion\n",
       "1             18790  2013-01-02         24    105574        12.0         NaN\n",
       "2             18791  2013-01-02         24    105575         2.0         NaN\n",
       "3             18792  2013-01-02         24    105577         1.0         NaN\n",
       "4             18793  2013-01-02         24    105693         7.0         NaN\n",
       "5             18794  2013-01-02         24    105737        17.0         NaN\n",
       "...             ...         ...        ...       ...         ...         ...\n",
       "22941650  125491519  2017-08-15         51   2122188         1.0       False\n",
       "22941651  125491520  2017-08-15         51   2123727         2.0       False\n",
       "22941652  125491521  2017-08-15         51   2123750         3.0       False\n",
       "22941653  125491522  2017-08-15         51   2123775         1.0       False\n",
       "22941654  125491523  2017-08-15         51   2123791         1.0       False\n",
       "\n",
       "[14745768 rows x 6 columns]"
      ],
      "text/html": [
       "<div>\n",
       "<style scoped>\n",
       "    .dataframe tbody tr th:only-of-type {\n",
       "        vertical-align: middle;\n",
       "    }\n",
       "\n",
       "    .dataframe tbody tr th {\n",
       "        vertical-align: top;\n",
       "    }\n",
       "\n",
       "    .dataframe thead th {\n",
       "        text-align: right;\n",
       "    }\n",
       "</style>\n",
       "<table border=\"1\" class=\"dataframe\">\n",
       "  <thead>\n",
       "    <tr style=\"text-align: right;\">\n",
       "      <th></th>\n",
       "      <th>id</th>\n",
       "      <th>date</th>\n",
       "      <th>store_nbr</th>\n",
       "      <th>item_nbr</th>\n",
       "      <th>unit_sales</th>\n",
       "      <th>onpromotion</th>\n",
       "    </tr>\n",
       "  </thead>\n",
       "  <tbody>\n",
       "    <tr>\n",
       "      <th>1</th>\n",
       "      <td>18790</td>\n",
       "      <td>2013-01-02</td>\n",
       "      <td>24</td>\n",
       "      <td>105574</td>\n",
       "      <td>12.0</td>\n",
       "      <td>NaN</td>\n",
       "    </tr>\n",
       "    <tr>\n",
       "      <th>2</th>\n",
       "      <td>18791</td>\n",
       "      <td>2013-01-02</td>\n",
       "      <td>24</td>\n",
       "      <td>105575</td>\n",
       "      <td>2.0</td>\n",
       "      <td>NaN</td>\n",
       "    </tr>\n",
       "    <tr>\n",
       "      <th>3</th>\n",
       "      <td>18792</td>\n",
       "      <td>2013-01-02</td>\n",
       "      <td>24</td>\n",
       "      <td>105577</td>\n",
       "      <td>1.0</td>\n",
       "      <td>NaN</td>\n",
       "    </tr>\n",
       "    <tr>\n",
       "      <th>4</th>\n",
       "      <td>18793</td>\n",
       "      <td>2013-01-02</td>\n",
       "      <td>24</td>\n",
       "      <td>105693</td>\n",
       "      <td>7.0</td>\n",
       "      <td>NaN</td>\n",
       "    </tr>\n",
       "    <tr>\n",
       "      <th>5</th>\n",
       "      <td>18794</td>\n",
       "      <td>2013-01-02</td>\n",
       "      <td>24</td>\n",
       "      <td>105737</td>\n",
       "      <td>17.0</td>\n",
       "      <td>NaN</td>\n",
       "    </tr>\n",
       "    <tr>\n",
       "      <th>...</th>\n",
       "      <td>...</td>\n",
       "      <td>...</td>\n",
       "      <td>...</td>\n",
       "      <td>...</td>\n",
       "      <td>...</td>\n",
       "      <td>...</td>\n",
       "    </tr>\n",
       "    <tr>\n",
       "      <th>22941650</th>\n",
       "      <td>125491519</td>\n",
       "      <td>2017-08-15</td>\n",
       "      <td>51</td>\n",
       "      <td>2122188</td>\n",
       "      <td>1.0</td>\n",
       "      <td>False</td>\n",
       "    </tr>\n",
       "    <tr>\n",
       "      <th>22941651</th>\n",
       "      <td>125491520</td>\n",
       "      <td>2017-08-15</td>\n",
       "      <td>51</td>\n",
       "      <td>2123727</td>\n",
       "      <td>2.0</td>\n",
       "      <td>False</td>\n",
       "    </tr>\n",
       "    <tr>\n",
       "      <th>22941652</th>\n",
       "      <td>125491521</td>\n",
       "      <td>2017-08-15</td>\n",
       "      <td>51</td>\n",
       "      <td>2123750</td>\n",
       "      <td>3.0</td>\n",
       "      <td>False</td>\n",
       "    </tr>\n",
       "    <tr>\n",
       "      <th>22941653</th>\n",
       "      <td>125491522</td>\n",
       "      <td>2017-08-15</td>\n",
       "      <td>51</td>\n",
       "      <td>2123775</td>\n",
       "      <td>1.0</td>\n",
       "      <td>False</td>\n",
       "    </tr>\n",
       "    <tr>\n",
       "      <th>22941654</th>\n",
       "      <td>125491523</td>\n",
       "      <td>2017-08-15</td>\n",
       "      <td>51</td>\n",
       "      <td>2123791</td>\n",
       "      <td>1.0</td>\n",
       "      <td>False</td>\n",
       "    </tr>\n",
       "  </tbody>\n",
       "</table>\n",
       "<p>14745768 rows × 6 columns</p>\n",
       "</div>"
      ]
     },
     "execution_count": 35,
     "metadata": {},
     "output_type": "execute_result"
    }
   ],
   "execution_count": 35
  },
  {
   "metadata": {},
   "cell_type": "markdown",
   "source": "### Agrregate Sales for each day",
   "id": "9a3a0dfd71a153d"
  },
  {
   "metadata": {
    "ExecuteTime": {
     "end_time": "2025-09-04T17:03:36.004784Z",
     "start_time": "2025-09-04T17:03:34.594825Z"
    }
   },
   "cell_type": "code",
   "source": "df_filtered = df_train.groupby('date').sum()['unit_sales'].reset_index()",
   "id": "55298f64a8e64947",
   "outputs": [],
   "execution_count": 36
  },
  {
   "metadata": {},
   "cell_type": "markdown",
   "source": "### Fill missing Days with Zero Sales",
   "id": "5d37e9ef6c710e6d"
  },
  {
   "metadata": {
    "ExecuteTime": {
     "end_time": "2025-09-04T17:03:40.818223Z",
     "start_time": "2025-09-04T17:03:40.802339Z"
    }
   },
   "cell_type": "code",
   "source": [
    "df_filtered['date'] = pd.to_datetime(df_filtered['date'])\n",
    "df_filtered.set_index('date', inplace=True)\n",
    "df_filtered = df_filtered.asfreq('D').fillna(0)"
   ],
   "id": "733529742ee7e15d",
   "outputs": [],
   "execution_count": 37
  },
  {
   "metadata": {},
   "cell_type": "markdown",
   "source": "### Save df_train as pickle",
   "id": "5bd07a086a66d546"
  },
  {
   "metadata": {
    "ExecuteTime": {
     "end_time": "2025-09-04T17:03:53.375760Z",
     "start_time": "2025-09-04T17:03:52.076155Z"
    }
   },
   "cell_type": "code",
   "source": [
    "dataframes = {\n",
    "    'df_holiday_events': df_holiday_events,\n",
    "    'df_items': df_items,\n",
    "    'df_oil': df_oil,\n",
    "    'df_stores': df_stores,\n",
    "    'df_transactions': df_transactions,\n",
    "    'df_train': df_train,\n",
    "    'df_filtered': df_filtered\n",
    "}\n",
    "\n",
    "with open('../resources/1_dataframes.pkl', 'wb') as f:\n",
    "    pickle.dump(dataframes, f)"
   ],
   "id": "6ecd11bddee2fdda",
   "outputs": [],
   "execution_count": 39
  }
 ],
 "metadata": {
  "kernelspec": {
   "display_name": "Python 3",
   "language": "python",
   "name": "python3"
  },
  "language_info": {
   "codemirror_mode": {
    "name": "ipython",
    "version": 2
   },
   "file_extension": ".py",
   "mimetype": "text/x-python",
   "name": "python",
   "nbconvert_exporter": "python",
   "pygments_lexer": "ipython2",
   "version": "2.7.6"
  }
 },
 "nbformat": 4,
 "nbformat_minor": 5
}
