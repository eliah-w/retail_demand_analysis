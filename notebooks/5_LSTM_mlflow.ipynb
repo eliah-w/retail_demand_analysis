{
 "cells": [
  {
   "metadata": {},
   "cell_type": "markdown",
   "source": "# XGBoost Demand-Forecast Model",
   "id": "4f481e92fec45aae"
  },
  {
   "cell_type": "code",
   "id": "initial_id",
   "metadata": {
    "collapsed": true,
    "ExecuteTime": {
     "end_time": "2025-09-04T17:59:02.804324Z",
     "start_time": "2025-09-04T17:59:02.407482Z"
    }
   },
   "source": [
    "import tensorflow as tf\n",
    "from tensorflow.keras import Sequential\n",
    "from tensorflow.keras.layers import LSTM, Dropout, Dense\n",
    "import mlflow\n",
    "import getpass\n",
    "import subprocess\n",
    "import pickle\n",
    "import numpy as np\n",
    "from matplotlib import pyplot as plt\n",
    "from pyngrok import ngrok, conf\n",
    "from sklearn.preprocessing import MinMaxScaler"
   ],
   "outputs": [],
   "execution_count": 2
  },
  {
   "metadata": {},
   "cell_type": "markdown",
   "source": "## Set up MLflow",
   "id": "4dbb5216c667016e"
  },
  {
   "metadata": {
    "ExecuteTime": {
     "end_time": "2025-09-04T17:59:03.735920Z",
     "start_time": "2025-09-04T17:59:03.733867Z"
    }
   },
   "cell_type": "code",
   "source": [
    "mlflow_path = '../mlflow_results'\n",
    "mlflow.set_tracking_uri(f'file:{mlflow_path}')"
   ],
   "id": "d4709002d2cc5c41",
   "outputs": [],
   "execution_count": 3
  },
  {
   "metadata": {},
   "cell_type": "code",
   "source": "mlflow.set_experiment('LSTM_retail_demand_analysis')",
   "id": "8866e95f57c612cf",
   "outputs": [],
   "execution_count": null
  },
  {
   "metadata": {},
   "cell_type": "markdown",
   "source": "## Start the MLflow UI server",
   "id": "7e8e14f07429941a"
  },
  {
   "metadata": {},
   "cell_type": "code",
   "source": "subprocess.Popen(['mlflow', 'ui', '--host', '0.0.0.0', '--port', '5000', \"--backend-store-uri\", mlflow_path])",
   "id": "3299648dcc4caabf",
   "outputs": [],
   "execution_count": null
  },
  {
   "metadata": {},
   "cell_type": "code",
   "source": [
    "print(\"Enter your authtoken, which can be copied from https://dashboard.ngrok.com/get-started/your-authtoken\")\n",
    "conf.get_default().auth_token = getpass.getpass()\n",
    "port=5000\n",
    "public_url = ngrok.connect(port).public_url\n",
    "print(f' * ngrok tunnel (ULR for MLFLow UI) \\\"{public_url}\\\" ')"
   ],
   "id": "43437c9a95b3b925",
   "outputs": [],
   "execution_count": null
  },
  {
   "metadata": {},
   "cell_type": "markdown",
   "source": "## Load Data",
   "id": "e8fab03c6fe3c581"
  },
  {
   "metadata": {
    "ExecuteTime": {
     "end_time": "2025-09-04T17:59:28.379782Z",
     "start_time": "2025-09-04T17:59:26.727704Z"
    }
   },
   "cell_type": "code",
   "source": [
    "with open('../resources/2_dataframes.pkl', 'rb') as f:\n",
    "    dataframes = pickle.load(f)"
   ],
   "id": "83110cad209ac7d4",
   "outputs": [],
   "execution_count": 7
  },
  {
   "metadata": {
    "ExecuteTime": {
     "end_time": "2025-09-04T17:59:29.677676Z",
     "start_time": "2025-09-04T17:59:29.674483Z"
    }
   },
   "cell_type": "code",
   "source": [
    "df_holiday_events = dataframes['df_holiday_events']\n",
    "df_items = dataframes['df_items']\n",
    "df_oil = dataframes['df_oil']\n",
    "df_stores = dataframes['df_stores']\n",
    "df_transactions = dataframes['df_transactions']\n",
    "df_train = dataframes['df_train']\n",
    "df_filtered = dataframes['df_filtered']"
   ],
   "id": "fee610facfff3743",
   "outputs": [],
   "execution_count": 8
  },
  {
   "metadata": {},
   "cell_type": "markdown",
   "source": "## Filtering",
   "id": "c15e2175f748d7d0"
  },
  {
   "metadata": {
    "ExecuteTime": {
     "end_time": "2025-09-04T17:59:32.223136Z",
     "start_time": "2025-09-04T17:59:32.217448Z"
    }
   },
   "cell_type": "code",
   "source": [
    "min_date = '2014-01-01'\n",
    "max_date = '2014-04-01'\n",
    "\n",
    "df_filtered = df_filtered[(df_filtered.index >= min_date) & (df_filtered.index < max_date)]"
   ],
   "id": "43a48991a13185b6",
   "outputs": [],
   "execution_count": 9
  },
  {
   "metadata": {},
   "cell_type": "markdown",
   "source": "## Preprocessing for LSTM",
   "id": "7879d439e6dd98be"
  },
  {
   "metadata": {},
   "cell_type": "markdown",
   "source": "### Extracting the Series we want to predict (unit sales)",
   "id": "7e9e5e07f6a3dd1"
  },
  {
   "metadata": {
    "ExecuteTime": {
     "end_time": "2025-09-04T18:01:38.562034Z",
     "start_time": "2025-09-04T18:01:38.556706Z"
    }
   },
   "cell_type": "code",
   "source": [
    "#values = df_filtered['unit_sales'].values.reshape(-1, 1)\n",
    "values = df_filtered.values"
   ],
   "id": "3e7f39a27d47d1b2",
   "outputs": [],
   "execution_count": 13
  },
  {
   "metadata": {},
   "cell_type": "markdown",
   "source": "### Train-Test Split",
   "id": "8671edecf6d95b62"
  },
  {
   "metadata": {
    "ExecuteTime": {
     "end_time": "2025-09-04T18:01:53.750839Z",
     "start_time": "2025-09-04T18:01:53.746768Z"
    }
   },
   "cell_type": "code",
   "source": [
    "train_cut = int(len(values) * 0.7)\n",
    "train_raw = values[:train_cut]\n",
    "test_raw  = values[train_cut:]"
   ],
   "id": "18b9ba5f5780c8fb",
   "outputs": [],
   "execution_count": 15
  },
  {
   "metadata": {},
   "cell_type": "markdown",
   "source": "### Scaling",
   "id": "107d7efcd4957a2"
  },
  {
   "metadata": {
    "ExecuteTime": {
     "end_time": "2025-09-04T18:02:07.419442Z",
     "start_time": "2025-09-04T18:02:07.397562Z"
    }
   },
   "cell_type": "code",
   "source": [
    "scaler = MinMaxScaler()\n",
    "train_scaled = scaler.fit_transform(train_raw)\n",
    "test_scaled  = scaler.transform(test_raw)"
   ],
   "id": "de321466a878caa0",
   "outputs": [],
   "execution_count": 17
  },
  {
   "metadata": {},
   "cell_type": "markdown",
   "source": "### Transforming the Series into Supervised Windows",
   "id": "f64e8b594829db10"
  },
  {
   "metadata": {
    "ExecuteTime": {
     "end_time": "2025-09-04T18:02:10.267697Z",
     "start_time": "2025-09-04T18:02:10.262747Z"
    }
   },
   "cell_type": "code",
   "source": [
    "SEQ_LEN = 14  # days\n",
    "\n",
    "def make_sequences(arr, seq_len):\n",
    "    X, y = [], []\n",
    "    for i in range(len(arr) - seq_len):\n",
    "        X.append(arr[i : i + seq_len, :])   # seq_len rows × 1 feature\n",
    "        y.append(arr[i + seq_len, 0])       # target is the very next value\n",
    "    return np.array(X), np.array(y)\n",
    "\n",
    "X_train, y_train = make_sequences(train_scaled, SEQ_LEN)\n",
    "X_test,  y_test  = make_sequences(test_scaled,  SEQ_LEN)\n",
    "\n",
    "# X_train/test → (samples, time_steps, features) and y_train/test → (samples,).\n",
    "print(\"Shapes  →  X_train:\", X_train.shape,\n",
    "      \"   y_train:\", y_train.shape,\n",
    "      \"   X_test:\",  X_test.shape,\n",
    "      \"   y_test:\",  y_test.shape)"
   ],
   "id": "f7128a3c35102acb",
   "outputs": [
    {
     "name": "stdout",
     "output_type": "stream",
     "text": [
      "Shapes  →  X_train: (48, 14, 6)    y_train: (48,)    X_test: (14, 14, 6)    y_test: (14,)\n"
     ]
    }
   ],
   "execution_count": 18
  },
  {
   "metadata": {},
   "cell_type": "markdown",
   "source": "## Model Building",
   "id": "13a24db3cadd7f8c"
  },
  {
   "metadata": {},
   "cell_type": "code",
   "source": [
    "model = Sequential([\n",
    "    LSTM(64, input_shape=(X_train.shape[1], X_train.shape[2])),\n",
    "    Dropout(0.2),\n",
    "    Dense(1)\n",
    "])"
   ],
   "id": "75d214be54c40e2d",
   "outputs": [],
   "execution_count": null
  },
  {
   "metadata": {},
   "cell_type": "markdown",
   "source": "Use the Adam optimizer and the mean absolute error (MAE) as the loss function.",
   "id": "5b4e45503dd8f67"
  },
  {
   "metadata": {
    "ExecuteTime": {
     "end_time": "2025-09-04T18:03:31.229164Z",
     "start_time": "2025-09-04T18:03:31.221993Z"
    }
   },
   "cell_type": "code",
   "source": "model.compile(optimizer='adam', loss='mae')",
   "id": "605b51ff193214d8",
   "outputs": [],
   "execution_count": 23
  },
  {
   "metadata": {},
   "cell_type": "markdown",
   "source": "## Training",
   "id": "2a949a167190055f"
  },
  {
   "metadata": {
    "ExecuteTime": {
     "end_time": "2025-09-04T18:03:38.276447Z",
     "start_time": "2025-09-04T18:03:35.577061Z"
    }
   },
   "cell_type": "code",
   "source": [
    "history = model.fit(\n",
    "    X_train, y_train,\n",
    "    epochs=30,\n",
    "    batch_size=32,\n",
    "    validation_split=0.1,\n",
    "    verbose=2 # This is so we can see on the screen one compact line per epoch (Epoch 1/30 loss=… val_loss=…).\n",
    ")"
   ],
   "id": "6646929e5edac960",
   "outputs": [
    {
     "name": "stdout",
     "output_type": "stream",
     "text": [
      "Epoch 1/30\n",
      "2/2 - 1s - 526ms/step - loss: 0.4259 - val_loss: 0.3793\n",
      "Epoch 2/30\n",
      "2/2 - 0s - 28ms/step - loss: 0.2006 - val_loss: 0.2278\n",
      "Epoch 3/30\n",
      "2/2 - 0s - 37ms/step - loss: 0.1331 - val_loss: 0.1728\n",
      "Epoch 4/30\n",
      "2/2 - 0s - 34ms/step - loss: 0.1561 - val_loss: 0.1712\n",
      "Epoch 5/30\n",
      "2/2 - 0s - 27ms/step - loss: 0.1438 - val_loss: 0.1840\n",
      "Epoch 6/30\n",
      "2/2 - 0s - 29ms/step - loss: 0.1377 - val_loss: 0.2133\n",
      "Epoch 7/30\n",
      "2/2 - 0s - 33ms/step - loss: 0.1039 - val_loss: 0.2452\n",
      "Epoch 8/30\n",
      "2/2 - 0s - 24ms/step - loss: 0.1052 - val_loss: 0.2687\n",
      "Epoch 9/30\n",
      "2/2 - 0s - 29ms/step - loss: 0.1473 - val_loss: 0.2728\n",
      "Epoch 10/30\n",
      "2/2 - 0s - 25ms/step - loss: 0.1260 - val_loss: 0.2605\n",
      "Epoch 11/30\n",
      "2/2 - 0s - 25ms/step - loss: 0.1153 - val_loss: 0.2499\n",
      "Epoch 12/30\n",
      "2/2 - 0s - 24ms/step - loss: 0.1189 - val_loss: 0.2392\n",
      "Epoch 13/30\n",
      "2/2 - 0s - 26ms/step - loss: 0.1041 - val_loss: 0.2317\n",
      "Epoch 14/30\n",
      "2/2 - 0s - 26ms/step - loss: 0.1091 - val_loss: 0.2314\n",
      "Epoch 15/30\n",
      "2/2 - 0s - 26ms/step - loss: 0.1126 - val_loss: 0.2302\n",
      "Epoch 16/30\n",
      "2/2 - 0s - 29ms/step - loss: 0.1197 - val_loss: 0.2259\n",
      "Epoch 17/30\n",
      "2/2 - 0s - 29ms/step - loss: 0.1047 - val_loss: 0.2247\n",
      "Epoch 18/30\n",
      "2/2 - 0s - 30ms/step - loss: 0.1242 - val_loss: 0.2243\n",
      "Epoch 19/30\n",
      "2/2 - 0s - 24ms/step - loss: 0.1073 - val_loss: 0.2240\n",
      "Epoch 20/30\n",
      "2/2 - 0s - 26ms/step - loss: 0.1118 - val_loss: 0.2295\n",
      "Epoch 21/30\n",
      "2/2 - 0s - 25ms/step - loss: 0.1168 - val_loss: 0.2391\n",
      "Epoch 22/30\n",
      "2/2 - 0s - 26ms/step - loss: 0.1138 - val_loss: 0.2458\n",
      "Epoch 23/30\n",
      "2/2 - 0s - 28ms/step - loss: 0.1010 - val_loss: 0.2454\n",
      "Epoch 24/30\n",
      "2/2 - 0s - 26ms/step - loss: 0.0912 - val_loss: 0.2391\n",
      "Epoch 25/30\n",
      "2/2 - 0s - 25ms/step - loss: 0.1032 - val_loss: 0.2349\n",
      "Epoch 26/30\n",
      "2/2 - 0s - 25ms/step - loss: 0.1122 - val_loss: 0.2335\n",
      "Epoch 27/30\n",
      "2/2 - 0s - 25ms/step - loss: 0.1022 - val_loss: 0.2325\n",
      "Epoch 28/30\n",
      "2/2 - 0s - 25ms/step - loss: 0.1135 - val_loss: 0.2354\n",
      "Epoch 29/30\n",
      "2/2 - 0s - 23ms/step - loss: 0.1038 - val_loss: 0.2438\n",
      "Epoch 30/30\n",
      "2/2 - 0s - 25ms/step - loss: 0.1006 - val_loss: 0.2494\n"
     ]
    }
   ],
   "execution_count": 24
  },
  {
   "metadata": {},
   "cell_type": "markdown",
   "source": "## Generating Forecasts",
   "id": "5cdee514a881d49a"
  },
  {
   "metadata": {
    "ExecuteTime": {
     "end_time": "2025-09-04T18:03:42.109430Z",
     "start_time": "2025-09-04T18:03:41.998012Z"
    }
   },
   "cell_type": "code",
   "source": "y_pred_scaled = model.predict(X_test).flatten()",
   "id": "f47200eb3e5f5d67",
   "outputs": [
    {
     "name": "stdout",
     "output_type": "stream",
     "text": [
      "\u001B[1m1/1\u001B[0m \u001B[32m━━━━━━━━━━━━━━━━━━━━\u001B[0m\u001B[37m\u001B[0m \u001B[1m0s\u001B[0m 80ms/step\n"
     ]
    }
   ],
   "execution_count": 25
  },
  {
   "metadata": {},
   "cell_type": "markdown",
   "source": "Convert forecasts back to real-world units.",
   "id": "f66fdb2f717935e7"
  },
  {
   "metadata": {
    "ExecuteTime": {
     "end_time": "2025-09-04T18:05:18.940909Z",
     "start_time": "2025-09-04T18:05:18.911605Z"
    }
   },
   "cell_type": "code",
   "source": [
    "# Create dummy arrays with the same shape as the original features\n",
    "y_pred_full = np.zeros((len(y_pred_scaled), X_train.shape[2]))\n",
    "y_pred_full[:, 0] = y_pred_scaled  # Put predictions in first column (unit_sales)\n",
    "\n",
    "y_true_full = np.zeros((len(y_test), X_train.shape[2]))\n",
    "y_true_full[:, 0] = y_test  # Put true values in first column (unit_sales)\n",
    "\n",
    "# Inverse transform and extract only the unit_sales column\n",
    "y_pred = scaler.inverse_transform(y_pred_full)[:, 0]\n",
    "y_true = scaler.inverse_transform(y_true_full)[:, 0]"
   ],
   "id": "9f6e5789a0a1302f",
   "outputs": [],
   "execution_count": 28
  },
  {
   "metadata": {},
   "cell_type": "markdown",
   "source": "## Visualization",
   "id": "264f32ad5b028449"
  },
  {
   "metadata": {
    "ExecuteTime": {
     "end_time": "2025-09-04T18:05:22.317515Z",
     "start_time": "2025-09-04T18:05:21.955100Z"
    }
   },
   "cell_type": "code",
   "source": [
    "plt.figure(figsize=(12,4))\n",
    "plt.plot(y_true, label=\"Actual sales\", linewidth=2)\n",
    "plt.plot(y_pred, label=\"LSTM forecast\", linewidth=2, alpha=0.8)\n",
    "plt.title(\"LSTM – Actual vs. Predicted\")\n",
    "plt.xlabel(\"Test time step\")\n",
    "plt.ylabel(\"Unit sales\")\n",
    "plt.legend()\n",
    "plt.tight_layout()\n",
    "plt.savefig('../resources/lstm_forecast.png')\n",
    "plt.show()"
   ],
   "id": "8c2ae48e472f7658",
   "outputs": [
    {
     "data": {
      "text/plain": [
       "<Figure size 1200x400 with 1 Axes>"
      ],
      "image/png": "[encoded data removed]"
     },
     "metadata": {},
     "output_type": "display_data",
     "jetTransient": {
      "display_id": null
     }
    }
   ],
   "execution_count": 29
  },
  {
   "metadata": {},
   "cell_type": "markdown",
   "source": "## MAE Evaluation",
   "id": "777edc5b7599ec87"
  },
  {
   "metadata": {
    "ExecuteTime": {
     "end_time": "2025-09-04T18:05:26.610697Z",
     "start_time": "2025-09-04T18:05:26.608279Z"
    }
   },
   "cell_type": "code",
   "source": [
    "mae = np.mean(np.abs(y_true - y_pred))\n",
    "print(f\"MAE={mae:6.2f}\")"
   ],
   "id": "f89cd4f370d926c",
   "outputs": [
    {
     "name": "stdout",
     "output_type": "stream",
     "text": [
      "MAE=8001.53\n"
     ]
    }
   ],
   "execution_count": 30
  },
  {
   "metadata": {},
   "cell_type": "markdown",
   "source": "## MLflow Tracking",
   "id": "51953b73e2f1fc43"
  },
  {
   "metadata": {},
   "cell_type": "code",
   "source": [
    "with mlflow.start_run(run_name='LSTM_retail_demand_analysis'):\n",
    "    mlflow.log_params({\n",
    "        'model_type': 'LSTM',\n",
    "        'window': SEQ_LEN,\n",
    "        'units': 64,\n",
    "        'layers': 1,\n",
    "        'epochs': 30,\n",
    "        'batch_size': 32\n",
    "    })\n",
    "    mlflow.log_metric('mae', mae) # TODO add metrics\n",
    "    mlflow.log_artifact('../resources/lstm_forecast.png')\n",
    "    mlflow.keras.log_model(model, name='model')"
   ],
   "id": "d4e2292fa9ed6d43",
   "outputs": [],
   "execution_count": null
  },
  {
   "metadata": {},
   "cell_type": "markdown",
   "source": "## Save Model and Scaler",
   "id": "1dd3dc6717c37ced"
  },
  {
   "metadata": {
    "ExecuteTime": {
     "end_time": "2025-09-04T18:06:16.675072Z",
     "start_time": "2025-09-04T18:06:16.671608Z"
    }
   },
   "cell_type": "code",
   "source": [
    "with open(\"../mlflow_results/models/scaler.pkl\", \"wb\") as f:\n",
    "    pickle.dump(scaler, f)"
   ],
   "id": "8b8be25a2afe49ff",
   "outputs": [],
   "execution_count": 33
  },
  {
   "metadata": {
    "ExecuteTime": {
     "end_time": "2025-09-04T18:06:17.839325Z",
     "start_time": "2025-09-04T18:06:17.807971Z"
    }
   },
   "cell_type": "code",
   "source": [
    "import os\n",
    "\n",
    "model.save('model.keras')\n",
    "os.rename('model.keras', '../mlflow_results/models/model.keras')"
   ],
   "id": "8278a5dc14448652",
   "outputs": [],
   "execution_count": 34
  },
  {
   "metadata": {
    "ExecuteTime": {
     "end_time": "2025-09-04T18:06:19.083813Z",
     "start_time": "2025-09-04T18:06:19.080417Z"
    }
   },
   "cell_type": "code",
   "source": [
    "import json\n",
    "\n",
    "feature_cols = ['unit_sales', 'lag_1', 'lag_7', 'lag_30', 'rolling_mean_7', 'rolling_std_7']\n",
    "\n",
    "with open(\"../mlflow_results/models/feature_cols.json\", \"w\") as f:\n",
    "    json.dump(feature_cols, f)"
   ],
   "id": "5494dab0bf54d4f6",
   "outputs": [],
   "execution_count": 35
  }
 ],
 "metadata": {
  "kernelspec": {
   "display_name": "Python 3",
   "language": "python",
   "name": "python3"
  },
  "language_info": {
   "codemirror_mode": {
    "name": "ipython",
    "version": 2
   },
   "file_extension": ".py",
   "mimetype": "text/x-python",
   "name": "python",
   "nbconvert_exporter": "python",
   "pygments_lexer": "ipython2",
   "version": "2.7.6"
  }
 },
 "nbformat": 4,
 "nbformat_minor": 5
}
